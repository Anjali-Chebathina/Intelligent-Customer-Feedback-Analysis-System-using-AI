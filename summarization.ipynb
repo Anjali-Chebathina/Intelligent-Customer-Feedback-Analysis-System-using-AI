{
  "nbformat": 4,
  "nbformat_minor": 0,
  "metadata": {
    "colab": {
      "provenance": []
    },
    "kernelspec": {
      "name": "python3",
      "display_name": "Python 3"
    },
    "language_info": {
      "name": "python"
    }
  },
  "cells": [
    {
      "cell_type": "code",
      "source": [
        "# Text summarization using a smaller and stable model\n",
        "# This will help avoid memory or token errors in Google Colab\n",
        "\n",
        "from transformers import pipeline\n",
        "\n",
        "# Load the summarization model safely\n",
        "# Using a lightweight model to prevent loading issues\n",
        "try:\n",
        "    summarizer = pipeline(\"summarization\", model=\"facebook/bart-large-cnn\")\n",
        "except Exception as e:\n",
        "    print(\"Model loading failed:\", e)\n",
        "    print(\"Trying with a smaller model...\")\n",
        "    summarizer = pipeline(\"summarization\", model=\"sshleifer/distilbart-cnn-12-6\")\n",
        "\n",
        "# Example text from the reviews to summarize\n",
        "sample_text = \"\"\"\n",
        "I bought this mixer grinder two weeks ago and it’s performing quite well.\n",
        "The motor is powerful and grinds everything smoothly. The design is also elegant.\n",
        "However, it makes a bit of noise during use. Overall, good value for money.\n",
        "\"\"\"\n",
        "\n",
        "# Run the summarization safely\n",
        "try:\n",
        "    summary = summarizer(sample_text, max_length=60, min_length=25, do_sample=False)\n",
        "    print(\"\\nOriginal Text:\\n\", sample_text)\n",
        "    print(\"\\nSummary:\\n\", summary[0]['summary_text'])\n",
        "except Exception as e:\n",
        "    print(\"Error during summarization:\", e)\n"
      ],
      "metadata": {
        "colab": {
          "base_uri": "https://localhost:8080/"
        },
        "id": "Q7yzBFmFSYrj",
        "outputId": "a082f60d-17b9-480e-98a6-d6a7e9bb39f4"
      },
      "execution_count": 2,
      "outputs": [
        {
          "output_type": "stream",
          "name": "stderr",
          "text": [
            "Device set to use cpu\n",
            "Your max_length is set to 60, but your input_length is only 59. Since this is a summarization task, where outputs shorter than the input are typically wanted, you might consider decreasing max_length manually, e.g. summarizer('...', max_length=29)\n"
          ]
        },
        {
          "output_type": "stream",
          "name": "stdout",
          "text": [
            "\n",
            "Original Text:\n",
            " \n",
            "I bought this mixer grinder two weeks ago and it’s performing quite well.\n",
            "The motor is powerful and grinds everything smoothly. The design is also elegant.\n",
            "However, it makes a bit of noise during use. Overall, good value for money.\n",
            "\n",
            "\n",
            "Summary:\n",
            " The motor is powerful and grinds everything smoothly. The design is also elegant. But it makes a bit of noise during use. Overall, good value for money.\n"
          ]
        }
      ]
    }
  ]
}