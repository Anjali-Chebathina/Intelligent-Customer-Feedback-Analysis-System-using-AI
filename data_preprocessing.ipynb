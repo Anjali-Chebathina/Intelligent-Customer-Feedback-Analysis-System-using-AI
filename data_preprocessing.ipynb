{
  "nbformat": 4,
  "nbformat_minor": 0,
  "metadata": {
    "colab": {
      "provenance": []
    },
    "kernelspec": {
      "name": "python3",
      "display_name": "Python 3"
    },
    "language_info": {
      "name": "python"
    }
  },
  "cells": [
    {
      "cell_type": "code",
      "source": [
        "# Import libraries\n",
        "import pandas as pd\n",
        "import re\n",
        "import nltk\n",
        "from nltk.corpus import stopwords\n",
        "from nltk.stem import WordNetLemmatizer\n",
        "\n",
        "# Download all required NLTK resources\n",
        "# Added 'punkt_tab' to avoid new tokenizer errors\n",
        "nltk.download('stopwords')\n",
        "nltk.download('punkt')\n",
        "nltk.download('punkt_tab')\n",
        "nltk.download('wordnet')\n",
        "\n",
        "# Load dataset\n",
        "df = pd.read_csv(\"sentiment_cleaned.csv\")\n",
        "print(\"Initial shape:\", df.shape)\n",
        "print(\"\\nAvailable columns:\", df.columns.tolist())\n",
        "\n",
        "# Detect the feedback text column automatically\n",
        "text_column = None\n",
        "for col in df.columns:\n",
        "    if col.lower() in ['feedback', 'review', 'comment', 'text', 'message']:\n",
        "        text_column = col\n",
        "        break\n",
        "\n",
        "if text_column is None:\n",
        "    raise KeyError(\"No feedback text column found. Please rename it manually.\")\n",
        "\n",
        "print(f\"\\nDetected feedback column: {text_column}\")\n",
        "\n",
        "# Remove duplicates and missing values\n",
        "df.drop_duplicates(inplace=True)\n",
        "df.dropna(subset=[text_column], inplace=True)\n",
        "\n",
        "# Prepare tools for cleaning\n",
        "stop_words = set(stopwords.words('english'))\n",
        "lemmatizer = WordNetLemmatizer()\n",
        "\n",
        "# Text cleaning function\n",
        "def clean_text(text):\n",
        "    # Keep only alphabets\n",
        "    text = re.sub(r'[^a-zA-Z\\s]', '', str(text))\n",
        "    text = text.lower().strip()\n",
        "    # Tokenize\n",
        "    tokens = nltk.word_tokenize(text)\n",
        "    # Remove stopwords and lemmatize words\n",
        "    cleaned = [lemmatizer.lemmatize(word) for word in tokens if word not in stop_words]\n",
        "    return \" \".join(cleaned)\n",
        "\n",
        "# Apply cleaning on feedback column\n",
        "df['clean_text'] = df[text_column].apply(clean_text)\n",
        "\n",
        "# Show a few cleaned samples\n",
        "print(\"\\nSample cleaned feedback:\\n\")\n",
        "print(df[['clean_text']].head())\n",
        "\n",
        "# Save cleaned data\n",
        "df.to_csv(\"cleaned_feedback.csv\", index=False)\n",
        "print(\"\\n✅ Cleaned dataset saved as cleaned_feedback.csv\")\n"
      ],
      "metadata": {
        "collapsed": true,
        "colab": {
          "base_uri": "https://localhost:8080/"
        },
        "id": "zSJ1cbTzK0WC",
        "outputId": "4be6b44c-9ea7-49b3-8693-0ca00f0e421a"
      },
      "execution_count": 3,
      "outputs": [
        {
          "output_type": "stream",
          "name": "stderr",
          "text": [
            "[nltk_data] Downloading package stopwords to /root/nltk_data...\n",
            "[nltk_data]   Package stopwords is already up-to-date!\n",
            "[nltk_data] Downloading package punkt to /root/nltk_data...\n",
            "[nltk_data]   Package punkt is already up-to-date!\n",
            "[nltk_data] Downloading package punkt_tab to /root/nltk_data...\n",
            "[nltk_data]   Unzipping tokenizers/punkt_tab.zip.\n",
            "[nltk_data] Downloading package wordnet to /root/nltk_data...\n",
            "[nltk_data]   Package wordnet is already up-to-date!\n"
          ]
        },
        {
          "output_type": "stream",
          "name": "stdout",
          "text": [
            "Initial shape: (2000, 6)\n",
            "\n",
            "Available columns: ['ProductName', 'ProductPrice', 'Rate', 'Review', 'Summary', 'Sentiment']\n",
            "\n",
            "Detected feedback column: Review\n",
            "\n",
            "Sample cleaned feedback:\n",
            "\n",
            "        clean_text\n",
            "0        wonderful\n",
            "1         terrific\n",
            "2  useless product\n",
            "3             okay\n",
            "4      worth money\n",
            "\n",
            "✅ Cleaned dataset saved as cleaned_feedback.csv\n"
          ]
        }
      ]
    }
  ]
}